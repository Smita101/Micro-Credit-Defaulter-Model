{
 "cells": [
  {
   "cell_type": "markdown",
   "metadata": {},
   "source": [
    "**Import Libraries**"
   ]
  },
  {
   "cell_type": "code",
   "execution_count": 1,
   "metadata": {},
   "outputs": [],
   "source": [
    "import pandas as pd\n",
    "import numpy as np\n",
    "import seaborn as sns\n",
    "import matplotlib.pyplot as plt\n",
    "%matplotlib inline\n",
    "import sklearn.metrics"
   ]
  },
  {
   "cell_type": "markdown",
   "metadata": {},
   "source": [
    "**Read data in pandas Dataframe**"
   ]
  },
  {
   "cell_type": "code",
   "execution_count": 2,
   "metadata": {},
   "outputs": [],
   "source": [
    "df = pd.read_csv(r\"C:\\Users\\Administrator\\Downloads\\Micro-Credit-Project\\Data file.csv\")"
   ]
  },
  {
   "cell_type": "code",
   "execution_count": 3,
   "metadata": {},
   "outputs": [
    {
     "data": {
      "text/html": [
       "<div>\n",
       "<style scoped>\n",
       "    .dataframe tbody tr th:only-of-type {\n",
       "        vertical-align: middle;\n",
       "    }\n",
       "\n",
       "    .dataframe tbody tr th {\n",
       "        vertical-align: top;\n",
       "    }\n",
       "\n",
       "    .dataframe thead th {\n",
       "        text-align: right;\n",
       "    }\n",
       "</style>\n",
       "<table border=\"1\" class=\"dataframe\">\n",
       "  <thead>\n",
       "    <tr style=\"text-align: right;\">\n",
       "      <th></th>\n",
       "      <th>Unnamed: 0</th>\n",
       "      <th>label</th>\n",
       "      <th>msisdn</th>\n",
       "      <th>aon</th>\n",
       "      <th>daily_decr30</th>\n",
       "      <th>daily_decr90</th>\n",
       "      <th>rental30</th>\n",
       "      <th>rental90</th>\n",
       "      <th>last_rech_date_ma</th>\n",
       "      <th>last_rech_date_da</th>\n",
       "      <th>...</th>\n",
       "      <th>maxamnt_loans30</th>\n",
       "      <th>medianamnt_loans30</th>\n",
       "      <th>cnt_loans90</th>\n",
       "      <th>amnt_loans90</th>\n",
       "      <th>maxamnt_loans90</th>\n",
       "      <th>medianamnt_loans90</th>\n",
       "      <th>payback30</th>\n",
       "      <th>payback90</th>\n",
       "      <th>pcircle</th>\n",
       "      <th>pdate</th>\n",
       "    </tr>\n",
       "  </thead>\n",
       "  <tbody>\n",
       "    <tr>\n",
       "      <th>0</th>\n",
       "      <td>1</td>\n",
       "      <td>0</td>\n",
       "      <td>21408I70789</td>\n",
       "      <td>272.0</td>\n",
       "      <td>3055.050000</td>\n",
       "      <td>3065.150000</td>\n",
       "      <td>220.13</td>\n",
       "      <td>260.13</td>\n",
       "      <td>2.0</td>\n",
       "      <td>0.0</td>\n",
       "      <td>...</td>\n",
       "      <td>6.0</td>\n",
       "      <td>0.0</td>\n",
       "      <td>2.0</td>\n",
       "      <td>12</td>\n",
       "      <td>6</td>\n",
       "      <td>0.0</td>\n",
       "      <td>29.000000</td>\n",
       "      <td>29.000000</td>\n",
       "      <td>UPW</td>\n",
       "      <td>2016-07-20</td>\n",
       "    </tr>\n",
       "    <tr>\n",
       "      <th>1</th>\n",
       "      <td>2</td>\n",
       "      <td>1</td>\n",
       "      <td>76462I70374</td>\n",
       "      <td>712.0</td>\n",
       "      <td>12122.000000</td>\n",
       "      <td>12124.750000</td>\n",
       "      <td>3691.26</td>\n",
       "      <td>3691.26</td>\n",
       "      <td>20.0</td>\n",
       "      <td>0.0</td>\n",
       "      <td>...</td>\n",
       "      <td>12.0</td>\n",
       "      <td>0.0</td>\n",
       "      <td>1.0</td>\n",
       "      <td>12</td>\n",
       "      <td>12</td>\n",
       "      <td>0.0</td>\n",
       "      <td>0.000000</td>\n",
       "      <td>0.000000</td>\n",
       "      <td>UPW</td>\n",
       "      <td>2016-08-10</td>\n",
       "    </tr>\n",
       "    <tr>\n",
       "      <th>2</th>\n",
       "      <td>3</td>\n",
       "      <td>1</td>\n",
       "      <td>17943I70372</td>\n",
       "      <td>535.0</td>\n",
       "      <td>1398.000000</td>\n",
       "      <td>1398.000000</td>\n",
       "      <td>900.13</td>\n",
       "      <td>900.13</td>\n",
       "      <td>3.0</td>\n",
       "      <td>0.0</td>\n",
       "      <td>...</td>\n",
       "      <td>6.0</td>\n",
       "      <td>0.0</td>\n",
       "      <td>1.0</td>\n",
       "      <td>6</td>\n",
       "      <td>6</td>\n",
       "      <td>0.0</td>\n",
       "      <td>0.000000</td>\n",
       "      <td>0.000000</td>\n",
       "      <td>UPW</td>\n",
       "      <td>2016-08-19</td>\n",
       "    </tr>\n",
       "    <tr>\n",
       "      <th>3</th>\n",
       "      <td>4</td>\n",
       "      <td>1</td>\n",
       "      <td>55773I70781</td>\n",
       "      <td>241.0</td>\n",
       "      <td>21.228000</td>\n",
       "      <td>21.228000</td>\n",
       "      <td>159.42</td>\n",
       "      <td>159.42</td>\n",
       "      <td>41.0</td>\n",
       "      <td>0.0</td>\n",
       "      <td>...</td>\n",
       "      <td>6.0</td>\n",
       "      <td>0.0</td>\n",
       "      <td>2.0</td>\n",
       "      <td>12</td>\n",
       "      <td>6</td>\n",
       "      <td>0.0</td>\n",
       "      <td>0.000000</td>\n",
       "      <td>0.000000</td>\n",
       "      <td>UPW</td>\n",
       "      <td>2016-06-06</td>\n",
       "    </tr>\n",
       "    <tr>\n",
       "      <th>4</th>\n",
       "      <td>5</td>\n",
       "      <td>1</td>\n",
       "      <td>03813I82730</td>\n",
       "      <td>947.0</td>\n",
       "      <td>150.619333</td>\n",
       "      <td>150.619333</td>\n",
       "      <td>1098.90</td>\n",
       "      <td>1098.90</td>\n",
       "      <td>4.0</td>\n",
       "      <td>0.0</td>\n",
       "      <td>...</td>\n",
       "      <td>6.0</td>\n",
       "      <td>0.0</td>\n",
       "      <td>7.0</td>\n",
       "      <td>42</td>\n",
       "      <td>6</td>\n",
       "      <td>0.0</td>\n",
       "      <td>2.333333</td>\n",
       "      <td>2.333333</td>\n",
       "      <td>UPW</td>\n",
       "      <td>2016-06-22</td>\n",
       "    </tr>\n",
       "  </tbody>\n",
       "</table>\n",
       "<p>5 rows × 37 columns</p>\n",
       "</div>"
      ],
      "text/plain": [
       "   Unnamed: 0  label       msisdn    aon  daily_decr30  daily_decr90  \\\n",
       "0           1      0  21408I70789  272.0   3055.050000   3065.150000   \n",
       "1           2      1  76462I70374  712.0  12122.000000  12124.750000   \n",
       "2           3      1  17943I70372  535.0   1398.000000   1398.000000   \n",
       "3           4      1  55773I70781  241.0     21.228000     21.228000   \n",
       "4           5      1  03813I82730  947.0    150.619333    150.619333   \n",
       "\n",
       "   rental30  rental90  last_rech_date_ma  last_rech_date_da  ...  \\\n",
       "0    220.13    260.13                2.0                0.0  ...   \n",
       "1   3691.26   3691.26               20.0                0.0  ...   \n",
       "2    900.13    900.13                3.0                0.0  ...   \n",
       "3    159.42    159.42               41.0                0.0  ...   \n",
       "4   1098.90   1098.90                4.0                0.0  ...   \n",
       "\n",
       "   maxamnt_loans30  medianamnt_loans30  cnt_loans90  amnt_loans90  \\\n",
       "0              6.0                 0.0          2.0            12   \n",
       "1             12.0                 0.0          1.0            12   \n",
       "2              6.0                 0.0          1.0             6   \n",
       "3              6.0                 0.0          2.0            12   \n",
       "4              6.0                 0.0          7.0            42   \n",
       "\n",
       "   maxamnt_loans90  medianamnt_loans90  payback30  payback90  pcircle  \\\n",
       "0                6                 0.0  29.000000  29.000000      UPW   \n",
       "1               12                 0.0   0.000000   0.000000      UPW   \n",
       "2                6                 0.0   0.000000   0.000000      UPW   \n",
       "3                6                 0.0   0.000000   0.000000      UPW   \n",
       "4                6                 0.0   2.333333   2.333333      UPW   \n",
       "\n",
       "        pdate  \n",
       "0  2016-07-20  \n",
       "1  2016-08-10  \n",
       "2  2016-08-19  \n",
       "3  2016-06-06  \n",
       "4  2016-06-22  \n",
       "\n",
       "[5 rows x 37 columns]"
      ]
     },
     "execution_count": 3,
     "metadata": {},
     "output_type": "execute_result"
    }
   ],
   "source": [
    "df.head()"
   ]
  },
  {
   "cell_type": "markdown",
   "metadata": {},
   "source": [
    "**Check datatypes**"
   ]
  },
  {
   "cell_type": "code",
   "execution_count": 4,
   "metadata": {},
   "outputs": [
    {
     "data": {
      "text/plain": [
       "Unnamed: 0                int64\n",
       "label                     int64\n",
       "msisdn                   object\n",
       "aon                     float64\n",
       "daily_decr30            float64\n",
       "daily_decr90            float64\n",
       "rental30                float64\n",
       "rental90                float64\n",
       "last_rech_date_ma       float64\n",
       "last_rech_date_da       float64\n",
       "last_rech_amt_ma          int64\n",
       "cnt_ma_rech30             int64\n",
       "fr_ma_rech30            float64\n",
       "sumamnt_ma_rech30       float64\n",
       "medianamnt_ma_rech30    float64\n",
       "medianmarechprebal30    float64\n",
       "cnt_ma_rech90             int64\n",
       "fr_ma_rech90              int64\n",
       "sumamnt_ma_rech90         int64\n",
       "medianamnt_ma_rech90    float64\n",
       "medianmarechprebal90    float64\n",
       "cnt_da_rech30           float64\n",
       "fr_da_rech30            float64\n",
       "cnt_da_rech90             int64\n",
       "fr_da_rech90              int64\n",
       "cnt_loans30               int64\n",
       "amnt_loans30              int64\n",
       "maxamnt_loans30         float64\n",
       "medianamnt_loans30      float64\n",
       "cnt_loans90             float64\n",
       "amnt_loans90              int64\n",
       "maxamnt_loans90           int64\n",
       "medianamnt_loans90      float64\n",
       "payback30               float64\n",
       "payback90               float64\n",
       "pcircle                  object\n",
       "pdate                    object\n",
       "dtype: object"
      ]
     },
     "execution_count": 4,
     "metadata": {},
     "output_type": "execute_result"
    }
   ],
   "source": [
    "df.dtypes"
   ]
  },
  {
   "cell_type": "markdown",
   "metadata": {},
   "source": [
    "**Check the shape of the dataset**"
   ]
  },
  {
   "cell_type": "code",
   "execution_count": 5,
   "metadata": {},
   "outputs": [
    {
     "data": {
      "text/plain": [
       "(209593, 37)"
      ]
     },
     "execution_count": 5,
     "metadata": {},
     "output_type": "execute_result"
    }
   ],
   "source": [
    "df.shape"
   ]
  },
  {
   "cell_type": "markdown",
   "metadata": {},
   "source": [
    "**required datatype change**"
   ]
  },
  {
   "cell_type": "code",
   "execution_count": 6,
   "metadata": {},
   "outputs": [
    {
     "data": {
      "text/plain": [
       "0        2016-07-20\n",
       "1        2016-08-10\n",
       "2        2016-08-19\n",
       "3        2016-06-06\n",
       "4        2016-06-22\n",
       "            ...    \n",
       "209588   2016-06-17\n",
       "209589   2016-06-12\n",
       "209590   2016-07-29\n",
       "209591   2016-07-25\n",
       "209592   2016-07-07\n",
       "Name: pdate, Length: 209593, dtype: datetime64[ns]"
      ]
     },
     "execution_count": 6,
     "metadata": {},
     "output_type": "execute_result"
    }
   ],
   "source": [
    "df['pdate'].astype('datetime64')"
   ]
  },
  {
   "cell_type": "markdown",
   "metadata": {},
   "source": [
    "**Removing the data with no previous loan history**"
   ]
  },
  {
   "cell_type": "code",
   "execution_count": 7,
   "metadata": {},
   "outputs": [],
   "source": [
    "index_names = df[ df['cnt_loans30'] == 0 ].index\n",
    "df.drop(index_names, inplace = True)"
   ]
  },
  {
   "cell_type": "code",
   "execution_count": 8,
   "metadata": {},
   "outputs": [
    {
     "data": {
      "text/plain": [
       "(206334, 37)"
      ]
     },
     "execution_count": 8,
     "metadata": {},
     "output_type": "execute_result"
    }
   ],
   "source": [
    "df.shape"
   ]
  },
  {
   "cell_type": "code",
   "execution_count": 9,
   "metadata": {},
   "outputs": [],
   "source": [
    "index_names1 = df[ df['cnt_loans90'] == 0 ].index\n",
    "df.drop(index_names1,inplace = True)"
   ]
  },
  {
   "cell_type": "code",
   "execution_count": 10,
   "metadata": {},
   "outputs": [
    {
     "data": {
      "text/plain": [
       "(206334, 37)"
      ]
     },
     "execution_count": 10,
     "metadata": {},
     "output_type": "execute_result"
    }
   ],
   "source": [
    "df.shape"
   ]
  },
  {
   "cell_type": "code",
   "execution_count": 11,
   "metadata": {},
   "outputs": [],
   "source": [
    "df1 = df.rename(columns = {'Unnamed: 0':'Customer_number'},inplace = False)"
   ]
  },
  {
   "cell_type": "code",
   "execution_count": 12,
   "metadata": {},
   "outputs": [
    {
     "data": {
      "text/html": [
       "<div>\n",
       "<style scoped>\n",
       "    .dataframe tbody tr th:only-of-type {\n",
       "        vertical-align: middle;\n",
       "    }\n",
       "\n",
       "    .dataframe tbody tr th {\n",
       "        vertical-align: top;\n",
       "    }\n",
       "\n",
       "    .dataframe thead th {\n",
       "        text-align: right;\n",
       "    }\n",
       "</style>\n",
       "<table border=\"1\" class=\"dataframe\">\n",
       "  <thead>\n",
       "    <tr style=\"text-align: right;\">\n",
       "      <th></th>\n",
       "      <th>Customer_number</th>\n",
       "      <th>label</th>\n",
       "      <th>msisdn</th>\n",
       "      <th>aon</th>\n",
       "      <th>daily_decr30</th>\n",
       "      <th>daily_decr90</th>\n",
       "      <th>rental30</th>\n",
       "      <th>rental90</th>\n",
       "      <th>last_rech_date_ma</th>\n",
       "      <th>last_rech_date_da</th>\n",
       "      <th>...</th>\n",
       "      <th>maxamnt_loans30</th>\n",
       "      <th>medianamnt_loans30</th>\n",
       "      <th>cnt_loans90</th>\n",
       "      <th>amnt_loans90</th>\n",
       "      <th>maxamnt_loans90</th>\n",
       "      <th>medianamnt_loans90</th>\n",
       "      <th>payback30</th>\n",
       "      <th>payback90</th>\n",
       "      <th>pcircle</th>\n",
       "      <th>pdate</th>\n",
       "    </tr>\n",
       "  </thead>\n",
       "  <tbody>\n",
       "    <tr>\n",
       "      <th>0</th>\n",
       "      <td>1</td>\n",
       "      <td>0</td>\n",
       "      <td>21408I70789</td>\n",
       "      <td>272.0</td>\n",
       "      <td>3055.050000</td>\n",
       "      <td>3065.150000</td>\n",
       "      <td>220.13</td>\n",
       "      <td>260.13</td>\n",
       "      <td>2.0</td>\n",
       "      <td>0.0</td>\n",
       "      <td>...</td>\n",
       "      <td>6.0</td>\n",
       "      <td>0.0</td>\n",
       "      <td>2.0</td>\n",
       "      <td>12</td>\n",
       "      <td>6</td>\n",
       "      <td>0.0</td>\n",
       "      <td>29.000000</td>\n",
       "      <td>29.000000</td>\n",
       "      <td>UPW</td>\n",
       "      <td>2016-07-20</td>\n",
       "    </tr>\n",
       "    <tr>\n",
       "      <th>1</th>\n",
       "      <td>2</td>\n",
       "      <td>1</td>\n",
       "      <td>76462I70374</td>\n",
       "      <td>712.0</td>\n",
       "      <td>12122.000000</td>\n",
       "      <td>12124.750000</td>\n",
       "      <td>3691.26</td>\n",
       "      <td>3691.26</td>\n",
       "      <td>20.0</td>\n",
       "      <td>0.0</td>\n",
       "      <td>...</td>\n",
       "      <td>12.0</td>\n",
       "      <td>0.0</td>\n",
       "      <td>1.0</td>\n",
       "      <td>12</td>\n",
       "      <td>12</td>\n",
       "      <td>0.0</td>\n",
       "      <td>0.000000</td>\n",
       "      <td>0.000000</td>\n",
       "      <td>UPW</td>\n",
       "      <td>2016-08-10</td>\n",
       "    </tr>\n",
       "    <tr>\n",
       "      <th>2</th>\n",
       "      <td>3</td>\n",
       "      <td>1</td>\n",
       "      <td>17943I70372</td>\n",
       "      <td>535.0</td>\n",
       "      <td>1398.000000</td>\n",
       "      <td>1398.000000</td>\n",
       "      <td>900.13</td>\n",
       "      <td>900.13</td>\n",
       "      <td>3.0</td>\n",
       "      <td>0.0</td>\n",
       "      <td>...</td>\n",
       "      <td>6.0</td>\n",
       "      <td>0.0</td>\n",
       "      <td>1.0</td>\n",
       "      <td>6</td>\n",
       "      <td>6</td>\n",
       "      <td>0.0</td>\n",
       "      <td>0.000000</td>\n",
       "      <td>0.000000</td>\n",
       "      <td>UPW</td>\n",
       "      <td>2016-08-19</td>\n",
       "    </tr>\n",
       "    <tr>\n",
       "      <th>3</th>\n",
       "      <td>4</td>\n",
       "      <td>1</td>\n",
       "      <td>55773I70781</td>\n",
       "      <td>241.0</td>\n",
       "      <td>21.228000</td>\n",
       "      <td>21.228000</td>\n",
       "      <td>159.42</td>\n",
       "      <td>159.42</td>\n",
       "      <td>41.0</td>\n",
       "      <td>0.0</td>\n",
       "      <td>...</td>\n",
       "      <td>6.0</td>\n",
       "      <td>0.0</td>\n",
       "      <td>2.0</td>\n",
       "      <td>12</td>\n",
       "      <td>6</td>\n",
       "      <td>0.0</td>\n",
       "      <td>0.000000</td>\n",
       "      <td>0.000000</td>\n",
       "      <td>UPW</td>\n",
       "      <td>2016-06-06</td>\n",
       "    </tr>\n",
       "    <tr>\n",
       "      <th>4</th>\n",
       "      <td>5</td>\n",
       "      <td>1</td>\n",
       "      <td>03813I82730</td>\n",
       "      <td>947.0</td>\n",
       "      <td>150.619333</td>\n",
       "      <td>150.619333</td>\n",
       "      <td>1098.90</td>\n",
       "      <td>1098.90</td>\n",
       "      <td>4.0</td>\n",
       "      <td>0.0</td>\n",
       "      <td>...</td>\n",
       "      <td>6.0</td>\n",
       "      <td>0.0</td>\n",
       "      <td>7.0</td>\n",
       "      <td>42</td>\n",
       "      <td>6</td>\n",
       "      <td>0.0</td>\n",
       "      <td>2.333333</td>\n",
       "      <td>2.333333</td>\n",
       "      <td>UPW</td>\n",
       "      <td>2016-06-22</td>\n",
       "    </tr>\n",
       "  </tbody>\n",
       "</table>\n",
       "<p>5 rows × 37 columns</p>\n",
       "</div>"
      ],
      "text/plain": [
       "   Customer_number  label       msisdn    aon  daily_decr30  daily_decr90  \\\n",
       "0                1      0  21408I70789  272.0   3055.050000   3065.150000   \n",
       "1                2      1  76462I70374  712.0  12122.000000  12124.750000   \n",
       "2                3      1  17943I70372  535.0   1398.000000   1398.000000   \n",
       "3                4      1  55773I70781  241.0     21.228000     21.228000   \n",
       "4                5      1  03813I82730  947.0    150.619333    150.619333   \n",
       "\n",
       "   rental30  rental90  last_rech_date_ma  last_rech_date_da  ...  \\\n",
       "0    220.13    260.13                2.0                0.0  ...   \n",
       "1   3691.26   3691.26               20.0                0.0  ...   \n",
       "2    900.13    900.13                3.0                0.0  ...   \n",
       "3    159.42    159.42               41.0                0.0  ...   \n",
       "4   1098.90   1098.90                4.0                0.0  ...   \n",
       "\n",
       "   maxamnt_loans30  medianamnt_loans30  cnt_loans90  amnt_loans90  \\\n",
       "0              6.0                 0.0          2.0            12   \n",
       "1             12.0                 0.0          1.0            12   \n",
       "2              6.0                 0.0          1.0             6   \n",
       "3              6.0                 0.0          2.0            12   \n",
       "4              6.0                 0.0          7.0            42   \n",
       "\n",
       "   maxamnt_loans90  medianamnt_loans90  payback30  payback90  pcircle  \\\n",
       "0                6                 0.0  29.000000  29.000000      UPW   \n",
       "1               12                 0.0   0.000000   0.000000      UPW   \n",
       "2                6                 0.0   0.000000   0.000000      UPW   \n",
       "3                6                 0.0   0.000000   0.000000      UPW   \n",
       "4                6                 0.0   2.333333   2.333333      UPW   \n",
       "\n",
       "        pdate  \n",
       "0  2016-07-20  \n",
       "1  2016-08-10  \n",
       "2  2016-08-19  \n",
       "3  2016-06-06  \n",
       "4  2016-06-22  \n",
       "\n",
       "[5 rows x 37 columns]"
      ]
     },
     "execution_count": 12,
     "metadata": {},
     "output_type": "execute_result"
    }
   ],
   "source": [
    "df1.head()"
   ]
  },
  {
   "cell_type": "code",
   "execution_count": 13,
   "metadata": {},
   "outputs": [],
   "source": [
    "df1.set_index('Customer_number',inplace = True)"
   ]
  },
  {
   "cell_type": "code",
   "execution_count": 14,
   "metadata": {},
   "outputs": [
    {
     "data": {
      "text/html": [
       "<div>\n",
       "<style scoped>\n",
       "    .dataframe tbody tr th:only-of-type {\n",
       "        vertical-align: middle;\n",
       "    }\n",
       "\n",
       "    .dataframe tbody tr th {\n",
       "        vertical-align: top;\n",
       "    }\n",
       "\n",
       "    .dataframe thead th {\n",
       "        text-align: right;\n",
       "    }\n",
       "</style>\n",
       "<table border=\"1\" class=\"dataframe\">\n",
       "  <thead>\n",
       "    <tr style=\"text-align: right;\">\n",
       "      <th></th>\n",
       "      <th>label</th>\n",
       "      <th>msisdn</th>\n",
       "      <th>aon</th>\n",
       "      <th>daily_decr30</th>\n",
       "      <th>daily_decr90</th>\n",
       "      <th>rental30</th>\n",
       "      <th>rental90</th>\n",
       "      <th>last_rech_date_ma</th>\n",
       "      <th>last_rech_date_da</th>\n",
       "      <th>last_rech_amt_ma</th>\n",
       "      <th>...</th>\n",
       "      <th>maxamnt_loans30</th>\n",
       "      <th>medianamnt_loans30</th>\n",
       "      <th>cnt_loans90</th>\n",
       "      <th>amnt_loans90</th>\n",
       "      <th>maxamnt_loans90</th>\n",
       "      <th>medianamnt_loans90</th>\n",
       "      <th>payback30</th>\n",
       "      <th>payback90</th>\n",
       "      <th>pcircle</th>\n",
       "      <th>pdate</th>\n",
       "    </tr>\n",
       "    <tr>\n",
       "      <th>Customer_number</th>\n",
       "      <th></th>\n",
       "      <th></th>\n",
       "      <th></th>\n",
       "      <th></th>\n",
       "      <th></th>\n",
       "      <th></th>\n",
       "      <th></th>\n",
       "      <th></th>\n",
       "      <th></th>\n",
       "      <th></th>\n",
       "      <th></th>\n",
       "      <th></th>\n",
       "      <th></th>\n",
       "      <th></th>\n",
       "      <th></th>\n",
       "      <th></th>\n",
       "      <th></th>\n",
       "      <th></th>\n",
       "      <th></th>\n",
       "      <th></th>\n",
       "      <th></th>\n",
       "    </tr>\n",
       "  </thead>\n",
       "  <tbody>\n",
       "    <tr>\n",
       "      <th>1</th>\n",
       "      <td>0</td>\n",
       "      <td>21408I70789</td>\n",
       "      <td>272.0</td>\n",
       "      <td>3055.050000</td>\n",
       "      <td>3065.150000</td>\n",
       "      <td>220.13</td>\n",
       "      <td>260.13</td>\n",
       "      <td>2.0</td>\n",
       "      <td>0.0</td>\n",
       "      <td>1539</td>\n",
       "      <td>...</td>\n",
       "      <td>6.0</td>\n",
       "      <td>0.0</td>\n",
       "      <td>2.0</td>\n",
       "      <td>12</td>\n",
       "      <td>6</td>\n",
       "      <td>0.0</td>\n",
       "      <td>29.000000</td>\n",
       "      <td>29.000000</td>\n",
       "      <td>UPW</td>\n",
       "      <td>2016-07-20</td>\n",
       "    </tr>\n",
       "    <tr>\n",
       "      <th>2</th>\n",
       "      <td>1</td>\n",
       "      <td>76462I70374</td>\n",
       "      <td>712.0</td>\n",
       "      <td>12122.000000</td>\n",
       "      <td>12124.750000</td>\n",
       "      <td>3691.26</td>\n",
       "      <td>3691.26</td>\n",
       "      <td>20.0</td>\n",
       "      <td>0.0</td>\n",
       "      <td>5787</td>\n",
       "      <td>...</td>\n",
       "      <td>12.0</td>\n",
       "      <td>0.0</td>\n",
       "      <td>1.0</td>\n",
       "      <td>12</td>\n",
       "      <td>12</td>\n",
       "      <td>0.0</td>\n",
       "      <td>0.000000</td>\n",
       "      <td>0.000000</td>\n",
       "      <td>UPW</td>\n",
       "      <td>2016-08-10</td>\n",
       "    </tr>\n",
       "    <tr>\n",
       "      <th>3</th>\n",
       "      <td>1</td>\n",
       "      <td>17943I70372</td>\n",
       "      <td>535.0</td>\n",
       "      <td>1398.000000</td>\n",
       "      <td>1398.000000</td>\n",
       "      <td>900.13</td>\n",
       "      <td>900.13</td>\n",
       "      <td>3.0</td>\n",
       "      <td>0.0</td>\n",
       "      <td>1539</td>\n",
       "      <td>...</td>\n",
       "      <td>6.0</td>\n",
       "      <td>0.0</td>\n",
       "      <td>1.0</td>\n",
       "      <td>6</td>\n",
       "      <td>6</td>\n",
       "      <td>0.0</td>\n",
       "      <td>0.000000</td>\n",
       "      <td>0.000000</td>\n",
       "      <td>UPW</td>\n",
       "      <td>2016-08-19</td>\n",
       "    </tr>\n",
       "    <tr>\n",
       "      <th>4</th>\n",
       "      <td>1</td>\n",
       "      <td>55773I70781</td>\n",
       "      <td>241.0</td>\n",
       "      <td>21.228000</td>\n",
       "      <td>21.228000</td>\n",
       "      <td>159.42</td>\n",
       "      <td>159.42</td>\n",
       "      <td>41.0</td>\n",
       "      <td>0.0</td>\n",
       "      <td>947</td>\n",
       "      <td>...</td>\n",
       "      <td>6.0</td>\n",
       "      <td>0.0</td>\n",
       "      <td>2.0</td>\n",
       "      <td>12</td>\n",
       "      <td>6</td>\n",
       "      <td>0.0</td>\n",
       "      <td>0.000000</td>\n",
       "      <td>0.000000</td>\n",
       "      <td>UPW</td>\n",
       "      <td>2016-06-06</td>\n",
       "    </tr>\n",
       "    <tr>\n",
       "      <th>5</th>\n",
       "      <td>1</td>\n",
       "      <td>03813I82730</td>\n",
       "      <td>947.0</td>\n",
       "      <td>150.619333</td>\n",
       "      <td>150.619333</td>\n",
       "      <td>1098.90</td>\n",
       "      <td>1098.90</td>\n",
       "      <td>4.0</td>\n",
       "      <td>0.0</td>\n",
       "      <td>2309</td>\n",
       "      <td>...</td>\n",
       "      <td>6.0</td>\n",
       "      <td>0.0</td>\n",
       "      <td>7.0</td>\n",
       "      <td>42</td>\n",
       "      <td>6</td>\n",
       "      <td>0.0</td>\n",
       "      <td>2.333333</td>\n",
       "      <td>2.333333</td>\n",
       "      <td>UPW</td>\n",
       "      <td>2016-06-22</td>\n",
       "    </tr>\n",
       "  </tbody>\n",
       "</table>\n",
       "<p>5 rows × 36 columns</p>\n",
       "</div>"
      ],
      "text/plain": [
       "                 label       msisdn    aon  daily_decr30  daily_decr90  \\\n",
       "Customer_number                                                          \n",
       "1                    0  21408I70789  272.0   3055.050000   3065.150000   \n",
       "2                    1  76462I70374  712.0  12122.000000  12124.750000   \n",
       "3                    1  17943I70372  535.0   1398.000000   1398.000000   \n",
       "4                    1  55773I70781  241.0     21.228000     21.228000   \n",
       "5                    1  03813I82730  947.0    150.619333    150.619333   \n",
       "\n",
       "                 rental30  rental90  last_rech_date_ma  last_rech_date_da  \\\n",
       "Customer_number                                                             \n",
       "1                  220.13    260.13                2.0                0.0   \n",
       "2                 3691.26   3691.26               20.0                0.0   \n",
       "3                  900.13    900.13                3.0                0.0   \n",
       "4                  159.42    159.42               41.0                0.0   \n",
       "5                 1098.90   1098.90                4.0                0.0   \n",
       "\n",
       "                 last_rech_amt_ma  ...  maxamnt_loans30  medianamnt_loans30  \\\n",
       "Customer_number                    ...                                        \n",
       "1                            1539  ...              6.0                 0.0   \n",
       "2                            5787  ...             12.0                 0.0   \n",
       "3                            1539  ...              6.0                 0.0   \n",
       "4                             947  ...              6.0                 0.0   \n",
       "5                            2309  ...              6.0                 0.0   \n",
       "\n",
       "                 cnt_loans90  amnt_loans90  maxamnt_loans90  \\\n",
       "Customer_number                                               \n",
       "1                        2.0            12                6   \n",
       "2                        1.0            12               12   \n",
       "3                        1.0             6                6   \n",
       "4                        2.0            12                6   \n",
       "5                        7.0            42                6   \n",
       "\n",
       "                 medianamnt_loans90  payback30  payback90  pcircle       pdate  \n",
       "Customer_number                                                                 \n",
       "1                               0.0  29.000000  29.000000      UPW  2016-07-20  \n",
       "2                               0.0   0.000000   0.000000      UPW  2016-08-10  \n",
       "3                               0.0   0.000000   0.000000      UPW  2016-08-19  \n",
       "4                               0.0   0.000000   0.000000      UPW  2016-06-06  \n",
       "5                               0.0   2.333333   2.333333      UPW  2016-06-22  \n",
       "\n",
       "[5 rows x 36 columns]"
      ]
     },
     "execution_count": 14,
     "metadata": {},
     "output_type": "execute_result"
    }
   ],
   "source": [
    "df1.head()"
   ]
  },
  {
   "cell_type": "markdown",
   "metadata": {},
   "source": [
    "**Checking skewness**"
   ]
  },
  {
   "cell_type": "code",
   "execution_count": 15,
   "metadata": {},
   "outputs": [
    {
     "data": {
      "text/plain": [
       "label                   -2.243226\n",
       "aon                     10.412316\n",
       "daily_decr30             3.965795\n",
       "daily_decr90             4.284159\n",
       "rental30                 4.468993\n",
       "rental90                 4.379261\n",
       "last_rech_date_ma       14.802413\n",
       "last_rech_date_da       14.763021\n",
       "last_rech_amt_ma         3.838389\n",
       "cnt_ma_rech30            3.276838\n",
       "fr_ma_rech30            14.800651\n",
       "sumamnt_ma_rech30        6.402651\n",
       "medianamnt_ma_rech30     3.553197\n",
       "medianmarechprebal30    14.778444\n",
       "cnt_ma_rech90            3.427664\n",
       "fr_ma_rech90             2.290585\n",
       "sumamnt_ma_rech90        4.923172\n",
       "medianamnt_ma_rech90     3.799376\n",
       "medianmarechprebal90    45.512392\n",
       "cnt_da_rech30           17.803363\n",
       "fr_da_rech30            14.764186\n",
       "cnt_da_rech90           27.137861\n",
       "fr_da_rech90            28.775577\n",
       "cnt_loans30              2.737129\n",
       "amnt_loans30             2.997192\n",
       "maxamnt_loans30         17.648609\n",
       "medianamnt_loans30       4.510679\n",
       "cnt_loans90             16.573289\n",
       "amnt_loans90             3.145134\n",
       "maxamnt_loans90          2.216911\n",
       "medianamnt_loans90       4.877133\n",
       "payback30                8.265049\n",
       "payback90                6.897933\n",
       "dtype: float64"
      ]
     },
     "execution_count": 15,
     "metadata": {},
     "output_type": "execute_result"
    }
   ],
   "source": [
    "df1.skew(axis = 0)"
   ]
  },
  {
   "cell_type": "markdown",
   "metadata": {},
   "source": [
    "**Removing unnecessary columns**"
   ]
  },
  {
   "cell_type": "code",
   "execution_count": 16,
   "metadata": {},
   "outputs": [],
   "source": [
    "df1 = df1.drop(['msisdn','pcircle'],axis = 1)"
   ]
  },
  {
   "cell_type": "code",
   "execution_count": 17,
   "metadata": {},
   "outputs": [],
   "source": [
    "df1 = df1.drop(['pdate'],axis = 1)"
   ]
  },
  {
   "cell_type": "code",
   "execution_count": 18,
   "metadata": {},
   "outputs": [],
   "source": [
    "x_data = df1.drop(['label'],axis =1)\n",
    "y_data = df1['label']"
   ]
  },
  {
   "cell_type": "code",
   "execution_count": 19,
   "metadata": {},
   "outputs": [
    {
     "data": {
      "text/html": [
       "<div>\n",
       "<style scoped>\n",
       "    .dataframe tbody tr th:only-of-type {\n",
       "        vertical-align: middle;\n",
       "    }\n",
       "\n",
       "    .dataframe tbody tr th {\n",
       "        vertical-align: top;\n",
       "    }\n",
       "\n",
       "    .dataframe thead th {\n",
       "        text-align: right;\n",
       "    }\n",
       "</style>\n",
       "<table border=\"1\" class=\"dataframe\">\n",
       "  <thead>\n",
       "    <tr style=\"text-align: right;\">\n",
       "      <th></th>\n",
       "      <th>aon</th>\n",
       "      <th>daily_decr30</th>\n",
       "      <th>daily_decr90</th>\n",
       "      <th>rental30</th>\n",
       "      <th>rental90</th>\n",
       "      <th>last_rech_date_ma</th>\n",
       "      <th>last_rech_date_da</th>\n",
       "      <th>last_rech_amt_ma</th>\n",
       "      <th>cnt_ma_rech30</th>\n",
       "      <th>fr_ma_rech30</th>\n",
       "      <th>...</th>\n",
       "      <th>cnt_loans30</th>\n",
       "      <th>amnt_loans30</th>\n",
       "      <th>maxamnt_loans30</th>\n",
       "      <th>medianamnt_loans30</th>\n",
       "      <th>cnt_loans90</th>\n",
       "      <th>amnt_loans90</th>\n",
       "      <th>maxamnt_loans90</th>\n",
       "      <th>medianamnt_loans90</th>\n",
       "      <th>payback30</th>\n",
       "      <th>payback90</th>\n",
       "    </tr>\n",
       "    <tr>\n",
       "      <th>Customer_number</th>\n",
       "      <th></th>\n",
       "      <th></th>\n",
       "      <th></th>\n",
       "      <th></th>\n",
       "      <th></th>\n",
       "      <th></th>\n",
       "      <th></th>\n",
       "      <th></th>\n",
       "      <th></th>\n",
       "      <th></th>\n",
       "      <th></th>\n",
       "      <th></th>\n",
       "      <th></th>\n",
       "      <th></th>\n",
       "      <th></th>\n",
       "      <th></th>\n",
       "      <th></th>\n",
       "      <th></th>\n",
       "      <th></th>\n",
       "      <th></th>\n",
       "      <th></th>\n",
       "    </tr>\n",
       "  </thead>\n",
       "  <tbody>\n",
       "    <tr>\n",
       "      <th>1</th>\n",
       "      <td>272.0</td>\n",
       "      <td>3055.05</td>\n",
       "      <td>3065.15</td>\n",
       "      <td>220.13</td>\n",
       "      <td>260.13</td>\n",
       "      <td>2.0</td>\n",
       "      <td>0.0</td>\n",
       "      <td>1539</td>\n",
       "      <td>2</td>\n",
       "      <td>21.0</td>\n",
       "      <td>...</td>\n",
       "      <td>2</td>\n",
       "      <td>12</td>\n",
       "      <td>6.0</td>\n",
       "      <td>0.0</td>\n",
       "      <td>2.0</td>\n",
       "      <td>12</td>\n",
       "      <td>6</td>\n",
       "      <td>0.0</td>\n",
       "      <td>29.00</td>\n",
       "      <td>29.00</td>\n",
       "    </tr>\n",
       "    <tr>\n",
       "      <th>2</th>\n",
       "      <td>712.0</td>\n",
       "      <td>12122.00</td>\n",
       "      <td>12124.75</td>\n",
       "      <td>3691.26</td>\n",
       "      <td>3691.26</td>\n",
       "      <td>20.0</td>\n",
       "      <td>0.0</td>\n",
       "      <td>5787</td>\n",
       "      <td>1</td>\n",
       "      <td>0.0</td>\n",
       "      <td>...</td>\n",
       "      <td>1</td>\n",
       "      <td>12</td>\n",
       "      <td>12.0</td>\n",
       "      <td>0.0</td>\n",
       "      <td>1.0</td>\n",
       "      <td>12</td>\n",
       "      <td>12</td>\n",
       "      <td>0.0</td>\n",
       "      <td>0.00</td>\n",
       "      <td>0.00</td>\n",
       "    </tr>\n",
       "    <tr>\n",
       "      <th>3</th>\n",
       "      <td>535.0</td>\n",
       "      <td>1398.00</td>\n",
       "      <td>1398.00</td>\n",
       "      <td>900.13</td>\n",
       "      <td>900.13</td>\n",
       "      <td>3.0</td>\n",
       "      <td>0.0</td>\n",
       "      <td>1539</td>\n",
       "      <td>1</td>\n",
       "      <td>0.0</td>\n",
       "      <td>...</td>\n",
       "      <td>1</td>\n",
       "      <td>6</td>\n",
       "      <td>6.0</td>\n",
       "      <td>0.0</td>\n",
       "      <td>1.0</td>\n",
       "      <td>6</td>\n",
       "      <td>6</td>\n",
       "      <td>0.0</td>\n",
       "      <td>0.00</td>\n",
       "      <td>0.00</td>\n",
       "    </tr>\n",
       "    <tr>\n",
       "      <th>4</th>\n",
       "      <td>241.0</td>\n",
       "      <td>21.23</td>\n",
       "      <td>21.23</td>\n",
       "      <td>159.42</td>\n",
       "      <td>159.42</td>\n",
       "      <td>41.0</td>\n",
       "      <td>0.0</td>\n",
       "      <td>947</td>\n",
       "      <td>0</td>\n",
       "      <td>0.0</td>\n",
       "      <td>...</td>\n",
       "      <td>2</td>\n",
       "      <td>12</td>\n",
       "      <td>6.0</td>\n",
       "      <td>0.0</td>\n",
       "      <td>2.0</td>\n",
       "      <td>12</td>\n",
       "      <td>6</td>\n",
       "      <td>0.0</td>\n",
       "      <td>0.00</td>\n",
       "      <td>0.00</td>\n",
       "    </tr>\n",
       "    <tr>\n",
       "      <th>5</th>\n",
       "      <td>947.0</td>\n",
       "      <td>150.62</td>\n",
       "      <td>150.62</td>\n",
       "      <td>1098.90</td>\n",
       "      <td>1098.90</td>\n",
       "      <td>4.0</td>\n",
       "      <td>0.0</td>\n",
       "      <td>2309</td>\n",
       "      <td>7</td>\n",
       "      <td>2.0</td>\n",
       "      <td>...</td>\n",
       "      <td>7</td>\n",
       "      <td>42</td>\n",
       "      <td>6.0</td>\n",
       "      <td>0.0</td>\n",
       "      <td>7.0</td>\n",
       "      <td>42</td>\n",
       "      <td>6</td>\n",
       "      <td>0.0</td>\n",
       "      <td>2.33</td>\n",
       "      <td>2.33</td>\n",
       "    </tr>\n",
       "    <tr>\n",
       "      <th>...</th>\n",
       "      <td>...</td>\n",
       "      <td>...</td>\n",
       "      <td>...</td>\n",
       "      <td>...</td>\n",
       "      <td>...</td>\n",
       "      <td>...</td>\n",
       "      <td>...</td>\n",
       "      <td>...</td>\n",
       "      <td>...</td>\n",
       "      <td>...</td>\n",
       "      <td>...</td>\n",
       "      <td>...</td>\n",
       "      <td>...</td>\n",
       "      <td>...</td>\n",
       "      <td>...</td>\n",
       "      <td>...</td>\n",
       "      <td>...</td>\n",
       "      <td>...</td>\n",
       "      <td>...</td>\n",
       "      <td>...</td>\n",
       "      <td>...</td>\n",
       "    </tr>\n",
       "    <tr>\n",
       "      <th>209589</th>\n",
       "      <td>404.0</td>\n",
       "      <td>151.87</td>\n",
       "      <td>151.87</td>\n",
       "      <td>1089.19</td>\n",
       "      <td>1089.19</td>\n",
       "      <td>1.0</td>\n",
       "      <td>0.0</td>\n",
       "      <td>4048</td>\n",
       "      <td>3</td>\n",
       "      <td>2.0</td>\n",
       "      <td>...</td>\n",
       "      <td>2</td>\n",
       "      <td>12</td>\n",
       "      <td>6.0</td>\n",
       "      <td>0.0</td>\n",
       "      <td>2.0</td>\n",
       "      <td>12</td>\n",
       "      <td>6</td>\n",
       "      <td>0.0</td>\n",
       "      <td>1.00</td>\n",
       "      <td>1.00</td>\n",
       "    </tr>\n",
       "    <tr>\n",
       "      <th>209590</th>\n",
       "      <td>1075.0</td>\n",
       "      <td>36.94</td>\n",
       "      <td>36.94</td>\n",
       "      <td>1728.36</td>\n",
       "      <td>1728.36</td>\n",
       "      <td>4.0</td>\n",
       "      <td>0.0</td>\n",
       "      <td>773</td>\n",
       "      <td>4</td>\n",
       "      <td>1.0</td>\n",
       "      <td>...</td>\n",
       "      <td>3</td>\n",
       "      <td>18</td>\n",
       "      <td>6.0</td>\n",
       "      <td>0.0</td>\n",
       "      <td>3.0</td>\n",
       "      <td>18</td>\n",
       "      <td>6</td>\n",
       "      <td>0.0</td>\n",
       "      <td>1.00</td>\n",
       "      <td>1.00</td>\n",
       "    </tr>\n",
       "    <tr>\n",
       "      <th>209591</th>\n",
       "      <td>1013.0</td>\n",
       "      <td>11843.11</td>\n",
       "      <td>11904.35</td>\n",
       "      <td>5861.83</td>\n",
       "      <td>8893.20</td>\n",
       "      <td>3.0</td>\n",
       "      <td>0.0</td>\n",
       "      <td>1539</td>\n",
       "      <td>5</td>\n",
       "      <td>8.0</td>\n",
       "      <td>...</td>\n",
       "      <td>4</td>\n",
       "      <td>42</td>\n",
       "      <td>12.0</td>\n",
       "      <td>0.0</td>\n",
       "      <td>6.0</td>\n",
       "      <td>54</td>\n",
       "      <td>12</td>\n",
       "      <td>0.0</td>\n",
       "      <td>4.00</td>\n",
       "      <td>3.83</td>\n",
       "    </tr>\n",
       "    <tr>\n",
       "      <th>209592</th>\n",
       "      <td>1732.0</td>\n",
       "      <td>12488.23</td>\n",
       "      <td>12574.37</td>\n",
       "      <td>411.83</td>\n",
       "      <td>984.58</td>\n",
       "      <td>2.0</td>\n",
       "      <td>38.0</td>\n",
       "      <td>773</td>\n",
       "      <td>5</td>\n",
       "      <td>4.0</td>\n",
       "      <td>...</td>\n",
       "      <td>2</td>\n",
       "      <td>18</td>\n",
       "      <td>12.0</td>\n",
       "      <td>0.0</td>\n",
       "      <td>3.0</td>\n",
       "      <td>24</td>\n",
       "      <td>12</td>\n",
       "      <td>0.0</td>\n",
       "      <td>0.00</td>\n",
       "      <td>10.50</td>\n",
       "    </tr>\n",
       "    <tr>\n",
       "      <th>209593</th>\n",
       "      <td>1581.0</td>\n",
       "      <td>4489.36</td>\n",
       "      <td>4534.82</td>\n",
       "      <td>483.92</td>\n",
       "      <td>631.20</td>\n",
       "      <td>13.0</td>\n",
       "      <td>0.0</td>\n",
       "      <td>7526</td>\n",
       "      <td>2</td>\n",
       "      <td>1.0</td>\n",
       "      <td>...</td>\n",
       "      <td>2</td>\n",
       "      <td>18</td>\n",
       "      <td>12.0</td>\n",
       "      <td>0.0</td>\n",
       "      <td>2.0</td>\n",
       "      <td>18</td>\n",
       "      <td>12</td>\n",
       "      <td>0.0</td>\n",
       "      <td>0.00</td>\n",
       "      <td>0.00</td>\n",
       "    </tr>\n",
       "  </tbody>\n",
       "</table>\n",
       "<p>206334 rows × 32 columns</p>\n",
       "</div>"
      ],
      "text/plain": [
       "                    aon  daily_decr30  daily_decr90  rental30  rental90  \\\n",
       "Customer_number                                                           \n",
       "1                 272.0       3055.05       3065.15    220.13    260.13   \n",
       "2                 712.0      12122.00      12124.75   3691.26   3691.26   \n",
       "3                 535.0       1398.00       1398.00    900.13    900.13   \n",
       "4                 241.0         21.23         21.23    159.42    159.42   \n",
       "5                 947.0        150.62        150.62   1098.90   1098.90   \n",
       "...                 ...           ...           ...       ...       ...   \n",
       "209589            404.0        151.87        151.87   1089.19   1089.19   \n",
       "209590           1075.0         36.94         36.94   1728.36   1728.36   \n",
       "209591           1013.0      11843.11      11904.35   5861.83   8893.20   \n",
       "209592           1732.0      12488.23      12574.37    411.83    984.58   \n",
       "209593           1581.0       4489.36       4534.82    483.92    631.20   \n",
       "\n",
       "                 last_rech_date_ma  last_rech_date_da  last_rech_amt_ma  \\\n",
       "Customer_number                                                           \n",
       "1                              2.0                0.0              1539   \n",
       "2                             20.0                0.0              5787   \n",
       "3                              3.0                0.0              1539   \n",
       "4                             41.0                0.0               947   \n",
       "5                              4.0                0.0              2309   \n",
       "...                            ...                ...               ...   \n",
       "209589                         1.0                0.0              4048   \n",
       "209590                         4.0                0.0               773   \n",
       "209591                         3.0                0.0              1539   \n",
       "209592                         2.0               38.0               773   \n",
       "209593                        13.0                0.0              7526   \n",
       "\n",
       "                 cnt_ma_rech30  fr_ma_rech30  ...  cnt_loans30  amnt_loans30  \\\n",
       "Customer_number                               ...                              \n",
       "1                            2          21.0  ...            2            12   \n",
       "2                            1           0.0  ...            1            12   \n",
       "3                            1           0.0  ...            1             6   \n",
       "4                            0           0.0  ...            2            12   \n",
       "5                            7           2.0  ...            7            42   \n",
       "...                        ...           ...  ...          ...           ...   \n",
       "209589                       3           2.0  ...            2            12   \n",
       "209590                       4           1.0  ...            3            18   \n",
       "209591                       5           8.0  ...            4            42   \n",
       "209592                       5           4.0  ...            2            18   \n",
       "209593                       2           1.0  ...            2            18   \n",
       "\n",
       "                 maxamnt_loans30  medianamnt_loans30  cnt_loans90  \\\n",
       "Customer_number                                                     \n",
       "1                            6.0                 0.0          2.0   \n",
       "2                           12.0                 0.0          1.0   \n",
       "3                            6.0                 0.0          1.0   \n",
       "4                            6.0                 0.0          2.0   \n",
       "5                            6.0                 0.0          7.0   \n",
       "...                          ...                 ...          ...   \n",
       "209589                       6.0                 0.0          2.0   \n",
       "209590                       6.0                 0.0          3.0   \n",
       "209591                      12.0                 0.0          6.0   \n",
       "209592                      12.0                 0.0          3.0   \n",
       "209593                      12.0                 0.0          2.0   \n",
       "\n",
       "                 amnt_loans90  maxamnt_loans90  medianamnt_loans90  payback30  \\\n",
       "Customer_number                                                                 \n",
       "1                          12                6                 0.0      29.00   \n",
       "2                          12               12                 0.0       0.00   \n",
       "3                           6                6                 0.0       0.00   \n",
       "4                          12                6                 0.0       0.00   \n",
       "5                          42                6                 0.0       2.33   \n",
       "...                       ...              ...                 ...        ...   \n",
       "209589                     12                6                 0.0       1.00   \n",
       "209590                     18                6                 0.0       1.00   \n",
       "209591                     54               12                 0.0       4.00   \n",
       "209592                     24               12                 0.0       0.00   \n",
       "209593                     18               12                 0.0       0.00   \n",
       "\n",
       "                 payback90  \n",
       "Customer_number             \n",
       "1                    29.00  \n",
       "2                     0.00  \n",
       "3                     0.00  \n",
       "4                     0.00  \n",
       "5                     2.33  \n",
       "...                    ...  \n",
       "209589                1.00  \n",
       "209590                1.00  \n",
       "209591                3.83  \n",
       "209592               10.50  \n",
       "209593                0.00  \n",
       "\n",
       "[206334 rows x 32 columns]"
      ]
     },
     "execution_count": 19,
     "metadata": {},
     "output_type": "execute_result"
    }
   ],
   "source": [
    "x_data.round(2)"
   ]
  },
  {
   "cell_type": "markdown",
   "metadata": {},
   "source": [
    "**Removing skewness**"
   ]
  },
  {
   "cell_type": "code",
   "execution_count": 20,
   "metadata": {},
   "outputs": [],
   "source": [
    "from skew_autotransform import skew_autotransform"
   ]
  },
  {
   "cell_type": "code",
   "execution_count": 21,
   "metadata": {},
   "outputs": [
    {
     "data": {
      "text/html": [
       "<div>\n",
       "<style scoped>\n",
       "    .dataframe tbody tr th:only-of-type {\n",
       "        vertical-align: middle;\n",
       "    }\n",
       "\n",
       "    .dataframe tbody tr th {\n",
       "        vertical-align: top;\n",
       "    }\n",
       "\n",
       "    .dataframe thead th {\n",
       "        text-align: right;\n",
       "    }\n",
       "</style>\n",
       "<table border=\"1\" class=\"dataframe\">\n",
       "  <thead>\n",
       "    <tr style=\"text-align: right;\">\n",
       "      <th></th>\n",
       "      <th>aon</th>\n",
       "      <th>daily_decr30</th>\n",
       "      <th>daily_decr90</th>\n",
       "      <th>rental30</th>\n",
       "      <th>rental90</th>\n",
       "      <th>last_rech_date_ma</th>\n",
       "      <th>last_rech_date_da</th>\n",
       "      <th>last_rech_amt_ma</th>\n",
       "      <th>cnt_ma_rech30</th>\n",
       "      <th>fr_ma_rech30</th>\n",
       "      <th>...</th>\n",
       "      <th>cnt_loans30</th>\n",
       "      <th>amnt_loans30</th>\n",
       "      <th>maxamnt_loans30</th>\n",
       "      <th>medianamnt_loans30</th>\n",
       "      <th>cnt_loans90</th>\n",
       "      <th>amnt_loans90</th>\n",
       "      <th>maxamnt_loans90</th>\n",
       "      <th>medianamnt_loans90</th>\n",
       "      <th>payback30</th>\n",
       "      <th>payback90</th>\n",
       "    </tr>\n",
       "    <tr>\n",
       "      <th>Customer_number</th>\n",
       "      <th></th>\n",
       "      <th></th>\n",
       "      <th></th>\n",
       "      <th></th>\n",
       "      <th></th>\n",
       "      <th></th>\n",
       "      <th></th>\n",
       "      <th></th>\n",
       "      <th></th>\n",
       "      <th></th>\n",
       "      <th></th>\n",
       "      <th></th>\n",
       "      <th></th>\n",
       "      <th></th>\n",
       "      <th></th>\n",
       "      <th></th>\n",
       "      <th></th>\n",
       "      <th></th>\n",
       "      <th></th>\n",
       "      <th></th>\n",
       "      <th></th>\n",
       "    </tr>\n",
       "  </thead>\n",
       "  <tbody>\n",
       "    <tr>\n",
       "      <th>1</th>\n",
       "      <td>5.007875</td>\n",
       "      <td>7.063366</td>\n",
       "      <td>6.857964</td>\n",
       "      <td>13.727007</td>\n",
       "      <td>11.583752</td>\n",
       "      <td>2.868565</td>\n",
       "      <td>1.986364</td>\n",
       "      <td>31.624181</td>\n",
       "      <td>0.793481</td>\n",
       "      <td>2.993640</td>\n",
       "      <td>...</td>\n",
       "      <td>0.589553</td>\n",
       "      <td>1.551326</td>\n",
       "      <td>0.136433</td>\n",
       "      <td>-1.666328e+06</td>\n",
       "      <td>0.600292</td>\n",
       "      <td>1.700162</td>\n",
       "      <td>0.089546</td>\n",
       "      <td>-2.098241e+07</td>\n",
       "      <td>3.113993</td>\n",
       "      <td>3.483684</td>\n",
       "    </tr>\n",
       "    <tr>\n",
       "      <th>2</th>\n",
       "      <td>5.641413</td>\n",
       "      <td>8.076737</td>\n",
       "      <td>7.802499</td>\n",
       "      <td>13.971596</td>\n",
       "      <td>11.751494</td>\n",
       "      <td>3.176564</td>\n",
       "      <td>1.986364</td>\n",
       "      <td>50.836330</td>\n",
       "      <td>0.009968</td>\n",
       "      <td>-4.726050</td>\n",
       "      <td>...</td>\n",
       "      <td>0.000000</td>\n",
       "      <td>1.551326</td>\n",
       "      <td>0.136433</td>\n",
       "      <td>-1.666328e+06</td>\n",
       "      <td>0.000000</td>\n",
       "      <td>1.700162</td>\n",
       "      <td>0.089546</td>\n",
       "      <td>-2.098241e+07</td>\n",
       "      <td>-5.143115</td>\n",
       "      <td>-4.399384</td>\n",
       "    </tr>\n",
       "    <tr>\n",
       "      <th>3</th>\n",
       "      <td>5.450142</td>\n",
       "      <td>6.484916</td>\n",
       "      <td>6.310847</td>\n",
       "      <td>13.777442</td>\n",
       "      <td>11.616678</td>\n",
       "      <td>2.890417</td>\n",
       "      <td>1.986364</td>\n",
       "      <td>31.624181</td>\n",
       "      <td>0.009968</td>\n",
       "      <td>-4.726050</td>\n",
       "      <td>...</td>\n",
       "      <td>0.000000</td>\n",
       "      <td>1.264623</td>\n",
       "      <td>0.136433</td>\n",
       "      <td>-1.666328e+06</td>\n",
       "      <td>0.000000</td>\n",
       "      <td>1.355357</td>\n",
       "      <td>0.089546</td>\n",
       "      <td>-2.098241e+07</td>\n",
       "      <td>-5.143115</td>\n",
       "      <td>-4.399384</td>\n",
       "    </tr>\n",
       "    <tr>\n",
       "      <th>4</th>\n",
       "      <td>4.931418</td>\n",
       "      <td>4.382941</td>\n",
       "      <td>4.305022</td>\n",
       "      <td>13.722439</td>\n",
       "      <td>11.578496</td>\n",
       "      <td>3.406182</td>\n",
       "      <td>1.986364</td>\n",
       "      <td>26.450913</td>\n",
       "      <td>-2.251392</td>\n",
       "      <td>-4.726050</td>\n",
       "      <td>...</td>\n",
       "      <td>0.589553</td>\n",
       "      <td>1.551326</td>\n",
       "      <td>0.136433</td>\n",
       "      <td>-1.666328e+06</td>\n",
       "      <td>0.600292</td>\n",
       "      <td>1.700162</td>\n",
       "      <td>0.089546</td>\n",
       "      <td>-2.098241e+07</td>\n",
       "      <td>-5.143115</td>\n",
       "      <td>-4.399384</td>\n",
       "    </tr>\n",
       "    <tr>\n",
       "      <th>5</th>\n",
       "      <td>5.833189</td>\n",
       "      <td>5.021444</td>\n",
       "      <td>4.918549</td>\n",
       "      <td>13.791938</td>\n",
       "      <td>11.626742</td>\n",
       "      <td>2.911526</td>\n",
       "      <td>1.986364</td>\n",
       "      <td>36.636475</td>\n",
       "      <td>2.819470</td>\n",
       "      <td>0.695411</td>\n",
       "      <td>...</td>\n",
       "      <td>1.264243</td>\n",
       "      <td>1.900247</td>\n",
       "      <td>0.136433</td>\n",
       "      <td>-1.666328e+06</td>\n",
       "      <td>1.323383</td>\n",
       "      <td>2.155489</td>\n",
       "      <td>0.089546</td>\n",
       "      <td>-2.098241e+07</td>\n",
       "      <td>0.834712</td>\n",
       "      <td>0.858870</td>\n",
       "    </tr>\n",
       "    <tr>\n",
       "      <th>...</th>\n",
       "      <td>...</td>\n",
       "      <td>...</td>\n",
       "      <td>...</td>\n",
       "      <td>...</td>\n",
       "      <td>...</td>\n",
       "      <td>...</td>\n",
       "      <td>...</td>\n",
       "      <td>...</td>\n",
       "      <td>...</td>\n",
       "      <td>...</td>\n",
       "      <td>...</td>\n",
       "      <td>...</td>\n",
       "      <td>...</td>\n",
       "      <td>...</td>\n",
       "      <td>...</td>\n",
       "      <td>...</td>\n",
       "      <td>...</td>\n",
       "      <td>...</td>\n",
       "      <td>...</td>\n",
       "      <td>...</td>\n",
       "      <td>...</td>\n",
       "    </tr>\n",
       "    <tr>\n",
       "      <th>209589</th>\n",
       "      <td>5.264127</td>\n",
       "      <td>5.025714</td>\n",
       "      <td>4.922639</td>\n",
       "      <td>13.791232</td>\n",
       "      <td>11.626252</td>\n",
       "      <td>2.845917</td>\n",
       "      <td>1.986364</td>\n",
       "      <td>44.791346</td>\n",
       "      <td>1.351915</td>\n",
       "      <td>0.695411</td>\n",
       "      <td>...</td>\n",
       "      <td>0.589553</td>\n",
       "      <td>1.551326</td>\n",
       "      <td>0.136433</td>\n",
       "      <td>-1.666328e+06</td>\n",
       "      <td>0.600292</td>\n",
       "      <td>1.700162</td>\n",
       "      <td>0.089546</td>\n",
       "      <td>-2.098241e+07</td>\n",
       "      <td>0.009948</td>\n",
       "      <td>0.009951</td>\n",
       "    </tr>\n",
       "    <tr>\n",
       "      <th>209590</th>\n",
       "      <td>5.918487</td>\n",
       "      <td>4.492695</td>\n",
       "      <td>4.410740</td>\n",
       "      <td>13.837131</td>\n",
       "      <td>11.658119</td>\n",
       "      <td>2.911526</td>\n",
       "      <td>1.986364</td>\n",
       "      <td>24.524225</td>\n",
       "      <td>1.800809</td>\n",
       "      <td>0.009950</td>\n",
       "      <td>...</td>\n",
       "      <td>0.853629</td>\n",
       "      <td>1.684589</td>\n",
       "      <td>0.136433</td>\n",
       "      <td>-1.666328e+06</td>\n",
       "      <td>0.877601</td>\n",
       "      <td>1.868410</td>\n",
       "      <td>0.089546</td>\n",
       "      <td>-2.098241e+07</td>\n",
       "      <td>0.009948</td>\n",
       "      <td>0.009951</td>\n",
       "    </tr>\n",
       "    <tr>\n",
       "      <th>209591</th>\n",
       "      <td>5.878522</td>\n",
       "      <td>8.059856</td>\n",
       "      <td>7.790136</td>\n",
       "      <td>14.110120</td>\n",
       "      <td>11.971470</td>\n",
       "      <td>2.890417</td>\n",
       "      <td>1.986364</td>\n",
       "      <td>31.624181</td>\n",
       "      <td>2.182549</td>\n",
       "      <td>2.056625</td>\n",
       "      <td>...</td>\n",
       "      <td>1.012133</td>\n",
       "      <td>1.900247</td>\n",
       "      <td>0.136433</td>\n",
       "      <td>-1.666328e+06</td>\n",
       "      <td>1.253765</td>\n",
       "      <td>2.226409</td>\n",
       "      <td>0.089546</td>\n",
       "      <td>-2.098241e+07</td>\n",
       "      <td>1.344317</td>\n",
       "      <td>1.364637</td>\n",
       "    </tr>\n",
       "    <tr>\n",
       "      <th>209592</th>\n",
       "      <td>6.238448</td>\n",
       "      <td>8.098310</td>\n",
       "      <td>7.827016</td>\n",
       "      <td>13.741360</td>\n",
       "      <td>11.620963</td>\n",
       "      <td>2.868565</td>\n",
       "      <td>2.212258</td>\n",
       "      <td>24.524225</td>\n",
       "      <td>2.182549</td>\n",
       "      <td>1.378042</td>\n",
       "      <td>...</td>\n",
       "      <td>0.589553</td>\n",
       "      <td>1.684589</td>\n",
       "      <td>0.136433</td>\n",
       "      <td>-1.666328e+06</td>\n",
       "      <td>0.877601</td>\n",
       "      <td>1.974934</td>\n",
       "      <td>0.089546</td>\n",
       "      <td>-2.098241e+07</td>\n",
       "      <td>-5.143115</td>\n",
       "      <td>2.408561</td>\n",
       "    </tr>\n",
       "    <tr>\n",
       "      <th>209593</th>\n",
       "      <td>6.177444</td>\n",
       "      <td>7.348562</td>\n",
       "      <td>7.130078</td>\n",
       "      <td>13.746730</td>\n",
       "      <td>11.602941</td>\n",
       "      <td>3.074556</td>\n",
       "      <td>1.986364</td>\n",
       "      <td>55.762990</td>\n",
       "      <td>0.793481</td>\n",
       "      <td>0.009950</td>\n",
       "      <td>...</td>\n",
       "      <td>0.589553</td>\n",
       "      <td>1.684589</td>\n",
       "      <td>0.136433</td>\n",
       "      <td>-1.666328e+06</td>\n",
       "      <td>0.600292</td>\n",
       "      <td>1.868410</td>\n",
       "      <td>0.089546</td>\n",
       "      <td>-2.098241e+07</td>\n",
       "      <td>-5.143115</td>\n",
       "      <td>-4.399384</td>\n",
       "    </tr>\n",
       "  </tbody>\n",
       "</table>\n",
       "<p>206334 rows × 32 columns</p>\n",
       "</div>"
      ],
      "text/plain": [
       "                      aon  daily_decr30  daily_decr90   rental30   rental90  \\\n",
       "Customer_number                                                               \n",
       "1                5.007875      7.063366      6.857964  13.727007  11.583752   \n",
       "2                5.641413      8.076737      7.802499  13.971596  11.751494   \n",
       "3                5.450142      6.484916      6.310847  13.777442  11.616678   \n",
       "4                4.931418      4.382941      4.305022  13.722439  11.578496   \n",
       "5                5.833189      5.021444      4.918549  13.791938  11.626742   \n",
       "...                   ...           ...           ...        ...        ...   \n",
       "209589           5.264127      5.025714      4.922639  13.791232  11.626252   \n",
       "209590           5.918487      4.492695      4.410740  13.837131  11.658119   \n",
       "209591           5.878522      8.059856      7.790136  14.110120  11.971470   \n",
       "209592           6.238448      8.098310      7.827016  13.741360  11.620963   \n",
       "209593           6.177444      7.348562      7.130078  13.746730  11.602941   \n",
       "\n",
       "                 last_rech_date_ma  last_rech_date_da  last_rech_amt_ma  \\\n",
       "Customer_number                                                           \n",
       "1                         2.868565           1.986364         31.624181   \n",
       "2                         3.176564           1.986364         50.836330   \n",
       "3                         2.890417           1.986364         31.624181   \n",
       "4                         3.406182           1.986364         26.450913   \n",
       "5                         2.911526           1.986364         36.636475   \n",
       "...                            ...                ...               ...   \n",
       "209589                    2.845917           1.986364         44.791346   \n",
       "209590                    2.911526           1.986364         24.524225   \n",
       "209591                    2.890417           1.986364         31.624181   \n",
       "209592                    2.868565           2.212258         24.524225   \n",
       "209593                    3.074556           1.986364         55.762990   \n",
       "\n",
       "                 cnt_ma_rech30  fr_ma_rech30  ...  cnt_loans30  amnt_loans30  \\\n",
       "Customer_number                               ...                              \n",
       "1                     0.793481      2.993640  ...     0.589553      1.551326   \n",
       "2                     0.009968     -4.726050  ...     0.000000      1.551326   \n",
       "3                     0.009968     -4.726050  ...     0.000000      1.264623   \n",
       "4                    -2.251392     -4.726050  ...     0.589553      1.551326   \n",
       "5                     2.819470      0.695411  ...     1.264243      1.900247   \n",
       "...                        ...           ...  ...          ...           ...   \n",
       "209589                1.351915      0.695411  ...     0.589553      1.551326   \n",
       "209590                1.800809      0.009950  ...     0.853629      1.684589   \n",
       "209591                2.182549      2.056625  ...     1.012133      1.900247   \n",
       "209592                2.182549      1.378042  ...     0.589553      1.684589   \n",
       "209593                0.793481      0.009950  ...     0.589553      1.684589   \n",
       "\n",
       "                 maxamnt_loans30  medianamnt_loans30  cnt_loans90  \\\n",
       "Customer_number                                                     \n",
       "1                       0.136433       -1.666328e+06     0.600292   \n",
       "2                       0.136433       -1.666328e+06     0.000000   \n",
       "3                       0.136433       -1.666328e+06     0.000000   \n",
       "4                       0.136433       -1.666328e+06     0.600292   \n",
       "5                       0.136433       -1.666328e+06     1.323383   \n",
       "...                          ...                 ...          ...   \n",
       "209589                  0.136433       -1.666328e+06     0.600292   \n",
       "209590                  0.136433       -1.666328e+06     0.877601   \n",
       "209591                  0.136433       -1.666328e+06     1.253765   \n",
       "209592                  0.136433       -1.666328e+06     0.877601   \n",
       "209593                  0.136433       -1.666328e+06     0.600292   \n",
       "\n",
       "                 amnt_loans90  maxamnt_loans90  medianamnt_loans90  payback30  \\\n",
       "Customer_number                                                                 \n",
       "1                    1.700162         0.089546       -2.098241e+07   3.113993   \n",
       "2                    1.700162         0.089546       -2.098241e+07  -5.143115   \n",
       "3                    1.355357         0.089546       -2.098241e+07  -5.143115   \n",
       "4                    1.700162         0.089546       -2.098241e+07  -5.143115   \n",
       "5                    2.155489         0.089546       -2.098241e+07   0.834712   \n",
       "...                       ...              ...                 ...        ...   \n",
       "209589               1.700162         0.089546       -2.098241e+07   0.009948   \n",
       "209590               1.868410         0.089546       -2.098241e+07   0.009948   \n",
       "209591               2.226409         0.089546       -2.098241e+07   1.344317   \n",
       "209592               1.974934         0.089546       -2.098241e+07  -5.143115   \n",
       "209593               1.868410         0.089546       -2.098241e+07  -5.143115   \n",
       "\n",
       "                 payback90  \n",
       "Customer_number             \n",
       "1                 3.483684  \n",
       "2                -4.399384  \n",
       "3                -4.399384  \n",
       "4                -4.399384  \n",
       "5                 0.858870  \n",
       "...                    ...  \n",
       "209589            0.009951  \n",
       "209590            0.009951  \n",
       "209591            1.364637  \n",
       "209592            2.408561  \n",
       "209593           -4.399384  \n",
       "\n",
       "[206334 rows x 32 columns]"
      ]
     },
     "execution_count": 21,
     "metadata": {},
     "output_type": "execute_result"
    }
   ],
   "source": [
    "skew_autotransform(x_data, include = None, exclude = None, plot = False, threshold = 1, exp = False)"
   ]
  },
  {
   "cell_type": "code",
   "execution_count": 22,
   "metadata": {},
   "outputs": [
    {
     "data": {
      "text/plain": [
       "aon                     -0.460033\n",
       "daily_decr30             0.034212\n",
       "daily_decr90             0.042868\n",
       "rental30                 0.548479\n",
       "rental90                 0.275609\n",
       "last_rech_date_ma       -3.587661\n",
       "last_rech_date_da      -36.505734\n",
       "last_rech_amt_ma        -0.365742\n",
       "cnt_ma_rech30           -0.182420\n",
       "fr_ma_rech30             0.002773\n",
       "sumamnt_ma_rech30       -0.566669\n",
       "medianamnt_ma_rech30    -0.555374\n",
       "medianmarechprebal30    -3.469857\n",
       "cnt_ma_rech90           -0.109122\n",
       "fr_ma_rech90            -0.178749\n",
       "sumamnt_ma_rech90       -0.415343\n",
       "medianamnt_ma_rech90    -0.372963\n",
       "medianmarechprebal90     0.274330\n",
       "cnt_da_rech30            6.891589\n",
       "fr_da_rech30            11.355026\n",
       "cnt_da_rech90            5.992204\n",
       "fr_da_rech90            15.356436\n",
       "cnt_loans30              0.162150\n",
       "amnt_loans30             0.134713\n",
       "maxamnt_loans30          0.000000\n",
       "medianamnt_loans30       3.414345\n",
       "cnt_loans90              0.146729\n",
       "amnt_loans90             0.118094\n",
       "maxamnt_loans90          0.000000\n",
       "medianamnt_loans90       3.761657\n",
       "payback30                0.090951\n",
       "payback90               -0.037231\n",
       "dtype: float64"
      ]
     },
     "execution_count": 22,
     "metadata": {},
     "output_type": "execute_result"
    }
   ],
   "source": [
    "x_data.skew(axis = 0)"
   ]
  },
  {
   "cell_type": "markdown",
   "metadata": {},
   "source": [
    "**Building differnt Models,evaluating them and saving the final model**"
   ]
  },
  {
   "cell_type": "code",
   "execution_count": 23,
   "metadata": {},
   "outputs": [
    {
     "name": "stdout",
     "output_type": "stream",
     "text": [
      "number of test samples : 30951\n",
      "number of training samples: 175383\n"
     ]
    }
   ],
   "source": [
    "from sklearn.model_selection import train_test_split\n",
    "\n",
    "\n",
    "x_train, x_test, y_train, y_test = train_test_split(x_data, y_data, test_size=0.15, random_state=1)\n",
    "\n",
    "\n",
    "print(\"number of test samples :\", x_test.shape[0])\n",
    "print(\"number of training samples:\",x_train.shape[0])"
   ]
  },
  {
   "cell_type": "code",
   "execution_count": 24,
   "metadata": {},
   "outputs": [
    {
     "data": {
      "text/plain": [
       "LogisticRegression(C=0.01, class_weight=None, dual=False, fit_intercept=True,\n",
       "                   intercept_scaling=1, l1_ratio=None, max_iter=100,\n",
       "                   multi_class='auto', n_jobs=None, penalty='l2',\n",
       "                   random_state=None, solver='liblinear', tol=0.0001, verbose=0,\n",
       "                   warm_start=False)"
      ]
     },
     "execution_count": 24,
     "metadata": {},
     "output_type": "execute_result"
    }
   ],
   "source": [
    "from sklearn.linear_model import LogisticRegression\n",
    "from sklearn.metrics import confusion_matrix\n",
    "LR = LogisticRegression(C=0.01, solver='liblinear').fit(x_train,y_train)\n",
    "LR"
   ]
  },
  {
   "cell_type": "code",
   "execution_count": 25,
   "metadata": {},
   "outputs": [
    {
     "data": {
      "text/plain": [
       "array([1, 1, 1, ..., 1, 1, 1], dtype=int64)"
      ]
     },
     "execution_count": 25,
     "metadata": {},
     "output_type": "execute_result"
    }
   ],
   "source": [
    "yhat = LR.predict(x_test)\n",
    "yhat"
   ]
  },
  {
   "cell_type": "code",
   "execution_count": 26,
   "metadata": {},
   "outputs": [
    {
     "name": "stderr",
     "output_type": "stream",
     "text": [
      "C:\\Users\\Administrator\\anaconda3\\lib\\site-packages\\sklearn\\metrics\\_classification.py:664: FutureWarning: jaccard_similarity_score has been deprecated and replaced with jaccard_score. It will be removed in version 0.23. This implementation has surprising behavior for binary and multiclass classification tasks.\n",
      "  FutureWarning)\n"
     ]
    },
    {
     "data": {
      "text/plain": [
       "0.8729927950631644"
      ]
     },
     "execution_count": 26,
     "metadata": {},
     "output_type": "execute_result"
    }
   ],
   "source": [
    "from sklearn.metrics import jaccard_similarity_score\n",
    "jaccard_similarity_score(y_test, yhat)"
   ]
  },
  {
   "cell_type": "code",
   "execution_count": 27,
   "metadata": {},
   "outputs": [
    {
     "data": {
      "text/plain": [
       "0.8178050013048129"
      ]
     },
     "execution_count": 27,
     "metadata": {},
     "output_type": "execute_result"
    }
   ],
   "source": [
    "from sklearn.metrics import f1_score\n",
    "f1_score(y_test,yhat,average = 'weighted')"
   ]
  },
  {
   "cell_type": "code",
   "execution_count": 28,
   "metadata": {},
   "outputs": [],
   "source": [
    "from sklearn.metrics import classification_report"
   ]
  },
  {
   "cell_type": "code",
   "execution_count": 29,
   "metadata": {},
   "outputs": [
    {
     "name": "stdout",
     "output_type": "stream",
     "text": [
      "              precision    recall  f1-score   support\n",
      "\n",
      "           0       0.17      0.01      0.01      3844\n",
      "           1       0.88      1.00      0.93     27107\n",
      "\n",
      "    accuracy                           0.87     30951\n",
      "   macro avg       0.52      0.50      0.47     30951\n",
      "weighted avg       0.79      0.87      0.82     30951\n",
      "\n"
     ]
    }
   ],
   "source": [
    "print(classification_report(y_test,yhat))"
   ]
  },
  {
   "cell_type": "code",
   "execution_count": 30,
   "metadata": {},
   "outputs": [
    {
     "data": {
      "text/plain": [
       "SVC(C=1.0, break_ties=False, cache_size=200, class_weight=None, coef0=0.0,\n",
       "    decision_function_shape='ovr', degree=3, gamma='scale', kernel='linear',\n",
       "    max_iter=-1, probability=False, random_state=None, shrinking=True,\n",
       "    tol=0.001, verbose=False)"
      ]
     },
     "execution_count": 30,
     "metadata": {},
     "output_type": "execute_result"
    }
   ],
   "source": [
    "from sklearn import svm\n",
    "SVM = svm.SVC(kernel='linear')\n",
    "SVM\n",
    "#SVM.fit(x_train, y_train)"
   ]
  },
  {
   "cell_type": "code",
   "execution_count": 31,
   "metadata": {},
   "outputs": [
    {
     "data": {
      "text/plain": [
       "SVC(C=1.0, break_ties=False, cache_size=200, class_weight=None, coef0=0.0,\n",
       "    decision_function_shape='ovr', degree=3, gamma='scale', kernel='linear',\n",
       "    max_iter=-1, probability=False, random_state=None, shrinking=True,\n",
       "    tol=0.001, verbose=False)"
      ]
     },
     "execution_count": 31,
     "metadata": {},
     "output_type": "execute_result"
    }
   ],
   "source": [
    "SVM.fit(x_train, y_train)"
   ]
  },
  {
   "cell_type": "code",
   "execution_count": 32,
   "metadata": {},
   "outputs": [
    {
     "data": {
      "text/plain": [
       "array([1, 1, 1, 1, 1], dtype=int64)"
      ]
     },
     "execution_count": 32,
     "metadata": {},
     "output_type": "execute_result"
    }
   ],
   "source": [
    "y_hat = SVM.predict(x_test)\n",
    "y_hat [0:5]"
   ]
  },
  {
   "cell_type": "code",
   "execution_count": 33,
   "metadata": {},
   "outputs": [
    {
     "data": {
      "text/plain": [
       "0.8178170318227073"
      ]
     },
     "execution_count": 33,
     "metadata": {},
     "output_type": "execute_result"
    }
   ],
   "source": [
    "f1_score(y_test,y_hat,average = 'weighted')"
   ]
  },
  {
   "cell_type": "code",
   "execution_count": 34,
   "metadata": {},
   "outputs": [
    {
     "name": "stdout",
     "output_type": "stream",
     "text": [
      "              precision    recall  f1-score   support\n",
      "\n",
      "           0       0.00      0.00      0.00      3844\n",
      "           1       0.88      1.00      0.93     27107\n",
      "\n",
      "    accuracy                           0.88     30951\n",
      "   macro avg       0.44      0.50      0.47     30951\n",
      "weighted avg       0.77      0.88      0.82     30951\n",
      "\n"
     ]
    },
    {
     "name": "stderr",
     "output_type": "stream",
     "text": [
      "C:\\Users\\Administrator\\anaconda3\\lib\\site-packages\\sklearn\\metrics\\_classification.py:1272: UndefinedMetricWarning: Precision and F-score are ill-defined and being set to 0.0 in labels with no predicted samples. Use `zero_division` parameter to control this behavior.\n",
      "  _warn_prf(average, modifier, msg_start, len(result))\n"
     ]
    }
   ],
   "source": [
    "print(classification_report(y_test,y_hat))"
   ]
  },
  {
   "cell_type": "code",
   "execution_count": 35,
   "metadata": {},
   "outputs": [],
   "source": [
    "new_x_data = np.nan_to_num(x_data.astype(np.float32))"
   ]
  },
  {
   "cell_type": "code",
   "execution_count": 36,
   "metadata": {},
   "outputs": [
    {
     "name": "stdout",
     "output_type": "stream",
     "text": [
      "number of test samples : 30951\n",
      "number of training samples: 175383\n"
     ]
    }
   ],
   "source": [
    "x_train, x_test, y_train, y_test = train_test_split(new_x_data, y_data, test_size=0.15, random_state=1)\n",
    "\n",
    "\n",
    "print(\"number of test samples :\", x_test.shape[0])\n",
    "print(\"number of training samples:\",x_train.shape[0])"
   ]
  },
  {
   "cell_type": "code",
   "execution_count": 37,
   "metadata": {},
   "outputs": [
    {
     "data": {
      "text/plain": [
       "DecisionTreeClassifier(ccp_alpha=0.0, class_weight=None, criterion='gini',\n",
       "                       max_depth=3, max_features=None, max_leaf_nodes=None,\n",
       "                       min_impurity_decrease=0.0, min_impurity_split=None,\n",
       "                       min_samples_leaf=1, min_samples_split=2,\n",
       "                       min_weight_fraction_leaf=0.0, presort='deprecated',\n",
       "                       random_state=None, splitter='best')"
      ]
     },
     "execution_count": 37,
     "metadata": {},
     "output_type": "execute_result"
    }
   ],
   "source": [
    "from sklearn.tree import DecisionTreeClassifier\n",
    "clf = DecisionTreeClassifier(max_depth = 3)\n",
    "clf.fit(x_train,y_train)\n",
    "\n"
   ]
  },
  {
   "cell_type": "code",
   "execution_count": 38,
   "metadata": {},
   "outputs": [],
   "source": [
    "y_pred = clf.predict(x_test)"
   ]
  },
  {
   "cell_type": "code",
   "execution_count": 39,
   "metadata": {},
   "outputs": [
    {
     "data": {
      "text/plain": [
       "0.8772165898775917"
      ]
     },
     "execution_count": 39,
     "metadata": {},
     "output_type": "execute_result"
    }
   ],
   "source": [
    "f1_score(y_test,y_pred,average = 'weighted')"
   ]
  },
  {
   "cell_type": "code",
   "execution_count": 40,
   "metadata": {},
   "outputs": [
    {
     "name": "stdout",
     "output_type": "stream",
     "text": [
      "              precision    recall  f1-score   support\n",
      "\n",
      "           0       0.87      0.25      0.39      3844\n",
      "           1       0.90      0.99      0.95     27107\n",
      "\n",
      "    accuracy                           0.90     30951\n",
      "   macro avg       0.89      0.62      0.67     30951\n",
      "weighted avg       0.90      0.90      0.88     30951\n",
      "\n"
     ]
    }
   ],
   "source": [
    "print(classification_report(y_test,y_pred))"
   ]
  },
  {
   "cell_type": "code",
   "execution_count": 41,
   "metadata": {},
   "outputs": [
    {
     "data": {
      "text/plain": [
       "RandomForestClassifier(bootstrap=True, ccp_alpha=0.0, class_weight=None,\n",
       "                       criterion='gini', max_depth=None, max_features='auto',\n",
       "                       max_leaf_nodes=None, max_samples=None,\n",
       "                       min_impurity_decrease=0.0, min_impurity_split=None,\n",
       "                       min_samples_leaf=1, min_samples_split=2,\n",
       "                       min_weight_fraction_leaf=0.0, n_estimators=80,\n",
       "                       n_jobs=None, oob_score=False, random_state=None,\n",
       "                       verbose=0, warm_start=False)"
      ]
     },
     "execution_count": 41,
     "metadata": {},
     "output_type": "execute_result"
    }
   ],
   "source": [
    "from sklearn.ensemble import RandomForestClassifier\n",
    "clfr=RandomForestClassifier(n_estimators=80)\n",
    "clfr.fit(x_train,y_train)"
   ]
  },
  {
   "cell_type": "code",
   "execution_count": 42,
   "metadata": {},
   "outputs": [],
   "source": [
    "y_pred1 = clfr.predict(x_test)\n"
   ]
  },
  {
   "cell_type": "code",
   "execution_count": 43,
   "metadata": {},
   "outputs": [
    {
     "data": {
      "text/plain": [
       "0.9030071680193252"
      ]
     },
     "execution_count": 43,
     "metadata": {},
     "output_type": "execute_result"
    }
   ],
   "source": [
    "f1_score(y_test, y_pred1 , average = 'weighted')"
   ]
  },
  {
   "cell_type": "code",
   "execution_count": 44,
   "metadata": {},
   "outputs": [
    {
     "name": "stdout",
     "output_type": "stream",
     "text": [
      "              precision    recall  f1-score   support\n",
      "\n",
      "           0       0.74      0.45      0.56      3844\n",
      "           1       0.93      0.98      0.95     27107\n",
      "\n",
      "    accuracy                           0.91     30951\n",
      "   macro avg       0.84      0.71      0.76     30951\n",
      "weighted avg       0.90      0.91      0.90     30951\n",
      "\n"
     ]
    }
   ],
   "source": [
    "print(classification_report(y_test,y_pred1))"
   ]
  },
  {
   "cell_type": "code",
   "execution_count": 45,
   "metadata": {
    "jupyter": {
     "source_hidden": true
    }
   },
   "outputs": [],
   "source": [
    "import pickle"
   ]
  },
  {
   "cell_type": "code",
   "execution_count": 46,
   "metadata": {},
   "outputs": [],
   "source": [
    "filename = 'finalized_model_Micro-credit-defaulter.sav'\n",
    "pickle.dump(clfr, open(filename, 'wb'))\n"
   ]
  },
  {
   "cell_type": "markdown",
   "metadata": {},
   "source": [
    "**visualization of feature importance in the classifier**"
   ]
  },
  {
   "cell_type": "code",
   "execution_count": 47,
   "metadata": {},
   "outputs": [],
   "source": [
    "columns = x_data.columns"
   ]
  },
  {
   "cell_type": "code",
   "execution_count": 48,
   "metadata": {},
   "outputs": [
    {
     "data": {
      "image/png": "[encoded data removed]",
      "text/plain": [
       "<Figure size 468x324 with 1 Axes>"
      ]
     },
     "metadata": {
      "needs_background": "light"
     },
     "output_type": "display_data"
    },
    {
     "data": {
      "text/plain": [
       "<Figure size 360x360 with 0 Axes>"
      ]
     },
     "metadata": {},
     "output_type": "display_data"
    }
   ],
   "source": [
    "y = clfr.feature_importances_\n",
    "fig, ax = plt.subplots() \n",
    "width = 0.4\n",
    "ind = np.arange(len(y)) \n",
    "ax.barh(ind, y, width, color=\"green\")\n",
    "ax.set_yticks(ind+width/10)\n",
    "ax.set_yticklabels(columns, minor=False)\n",
    "plt.title('Feature importance RandomForest Classifier')\n",
    "plt.xlabel('Relative importance')\n",
    "plt.ylabel('feature') \n",
    "plt.figure(figsize=(5,5))\n",
    "fig.set_size_inches(6.5, 4.5, forward=True)"
   ]
  },
  {
   "cell_type": "code",
   "execution_count": null,
   "metadata": {},
   "outputs": [],
   "source": []
  }
 ],
 "metadata": {
  "kernelspec": {
   "display_name": "Python 3",
   "language": "python",
   "name": "python3"
  },
  "language_info": {
   "codemirror_mode": {
    "name": "ipython",
    "version": 3
   },
   "file_extension": ".py",
   "mimetype": "text/x-python",
   "name": "python",
   "nbconvert_exporter": "python",
   "pygments_lexer": "ipython3",
   "version": "3.7.6"
  }
 },
 "nbformat": 4,
 "nbformat_minor": 4
}
